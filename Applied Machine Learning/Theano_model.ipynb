{
 "cells": [
  {
   "cell_type": "code",
   "execution_count": 16,
   "id": "c6b57527",
   "metadata": {},
   "outputs": [
    {
     "name": "stdout",
     "output_type": "stream",
     "text": [
      "Using matplotlib backend: Qt5Agg\n",
      "Populating the interactive namespace from numpy and matplotlib\n"
     ]
    }
   ],
   "source": [
    "%pylab\n",
    "%matplotlib inline\n",
    "\n",
    "%config InlineBackend.figure_format = 'retina'\n",
    "\n",
    "import numpy as np"
   ]
  },
  {
   "cell_type": "code",
   "execution_count": 17,
   "id": "f636d228",
   "metadata": {},
   "outputs": [
    {
     "name": "stdout",
     "output_type": "stream",
     "text": [
      "env: MKL_THREADING_LAYER=GNU\n"
     ]
    }
   ],
   "source": [
    "env MKL_THREADING_LAYER=GNU"
   ]
  },
  {
   "cell_type": "code",
   "execution_count": 18,
   "id": "ae040d7d",
   "metadata": {},
   "outputs": [],
   "source": [
    "import theano\n",
    "import theano.tensor as T"
   ]
  },
  {
   "cell_type": "markdown",
   "id": "7bed5846",
   "metadata": {},
   "source": [
    "The problem requires to use Theano to obtain the parameters w0 and w1 os the next model: "
   ]
  },
  {
   "cell_type": "markdown",
   "id": "9e312e36",
   "metadata": {},
   "source": [
    "$y$ = $log(1 + w0|x|) + w1x$"
   ]
  },
  {
   "cell_type": "markdown",
   "id": "7180811f",
   "metadata": {},
   "source": [
    "For that we are going to use the data displayed next:"
   ]
  },
  {
   "cell_type": "code",
   "execution_count": 21,
   "id": "b2dc41fc",
   "metadata": {},
   "outputs": [],
   "source": [
    "import math\n",
    "\n",
    "trX = np.linspace(-1, 1, 101)\n",
    "trY = np.linspace(-1, 1, 101)\n",
    "\n",
    "for i in range(len(trY)) :\n",
    "    trY[i] = math.log(1 + 0.5 * abs(trX[i])) + trX[i]/3 + np.random.randn() * 0.033"
   ]
  },
  {
   "cell_type": "markdown",
   "id": "79c736a0",
   "metadata": {},
   "source": [
    "#### Neuralnet model"
   ]
  },
  {
   "cell_type": "code",
   "execution_count": 30,
   "id": "1f5ca552",
   "metadata": {},
   "outputs": [
    {
     "name": "stdout",
     "output_type": "stream",
     "text": [
      "In the step 0 the value of w0 is 0.20312806394341112 and w1 is 0.16789769159623552 with a cost of 0.14406509816655821\n",
      "In the step 1 the value of w0 is 0.3104162804031544 and w1 is 0.2535492344185887 with a cost of 0.04080875407178989\n",
      "In the step 2 the value of w0 is 0.37572470167264926 and w1 is 0.2955198874589851 with a cost of 0.011732541389212505\n",
      "In the step 3 the value of w0 is 0.4178714719985762 and w1 is 0.3155765854505101 with a cost of 0.0031880174490131028\n",
      "In the step 4 the value of w0 is 0.4458777177300081 and w1 is 0.3248829106898237 with a cost of 0.000712588857922105\n",
      "In the step 5 the value of w0 is 0.4647905983889218 and w1 is 0.32901387107298535 with a cost of 8.178436029833721e-05\n",
      "In the step 6 the value of w0 is 0.47768430068411805 and w1 is 0.33071070007821857 with a cost of 3.0031941297280986e-06\n",
      "In the step 7 the value of w0 is 0.48652557232045984 and w1 is 0.33130138892910116 with a cost of 7.19949094774078e-05\n",
      "In the step 8 the value of w0 is 0.49261019290444474 and w1 is 0.3314173449004743 with a cost of 0.00016410814349470635\n",
      "In the step 9 the value of w0 is 0.4968074422615452 and w1 is 0.331350726263785 with a cost of 0.0002443880596232161\n",
      "In the step 10 the value of w0 is 0.49970713692740315 and w1 is 0.3312309715086243 with a cost of 0.00030631986232984554\n",
      "In the step 11 the value of w0 is 0.501712386751323 and w1 is 0.33111115349008574 with a cost of 0.00035171646372794793\n",
      "In the step 12 the value of w0 is 0.503099992578556 and w1 is 0.33100969580113254 with a cost of 0.000384173401023621\n",
      "In the step 13 the value of w0 is 0.5040606065273799 and w1 is 0.33093017239773004 with a cost of 0.00040707435193346837\n",
      "In the step 14 the value of w0 is 0.504725808500642 and w1 is 0.330870457385627 with a cost of 0.00042311388520940916\n"
     ]
    }
   ],
   "source": [
    "# First we define our tensors X and Y \n",
    "X = T.scalar()\n",
    "Y = T.scalar()\n",
    "\n",
    "# The entries of the model are going to be the two weights wo and w1, and the independent variable X\n",
    "def model(X,w0,w1):\n",
    "    return T.log(1 + w0 * abs(X)) + w1 * X\n",
    "\n",
    "# Now we have the function that is going to give the output of the model, or the Y of our equation, but we have also to define the weights\n",
    "# Shared variables allow us to use values in theano functions that are not considered an input to the function, but can still be changed later.\n",
    "w0 = theano.shared(np.asarray(0., dtype = theano.config.floatX))\n",
    "w1 = theano.shared(np.asarray(0., dtype = theano.config.floatX))\n",
    "\n",
    "# Definition of the model\n",
    "y = model(X,w0,w1)\n",
    "\n",
    "# We define the cost function \n",
    "cost = T.mean(T.sqr(y - Y))\n",
    "\n",
    "#We create the gradient \n",
    "gradient_w0 = T.grad(cost = cost, wrt = w0)\n",
    "gradient_w1 = T.grad(cost = cost, wrt = w1)\n",
    "\n",
    "updates  = [[w0, w0 - gradient_w0 * 0.01], [w1, w1 - gradient_w1 * 0.01]]\n",
    "\n",
    "train = theano.function(inputs = [X, Y], outputs = cost, updates = updates)\n",
    "\n",
    "for i in range(15):\n",
    "    for x, y in zip(trX, trY):\n",
    "        cost_i = train(x, y)\n",
    "    print('In the step', i, 'the value of w0 is', w0.get_value(),\n",
    "           'and w1 is', w1.get_value(), 'with a cost of', cost_i)"
   ]
  }
 ],
 "metadata": {
  "kernelspec": {
   "display_name": "Python 3 (ipykernel)",
   "language": "python",
   "name": "python3"
  },
  "language_info": {
   "codemirror_mode": {
    "name": "ipython",
    "version": 3
   },
   "file_extension": ".py",
   "mimetype": "text/x-python",
   "name": "python",
   "nbconvert_exporter": "python",
   "pygments_lexer": "ipython3",
   "version": "3.8.5"
  }
 },
 "nbformat": 4,
 "nbformat_minor": 5
}
