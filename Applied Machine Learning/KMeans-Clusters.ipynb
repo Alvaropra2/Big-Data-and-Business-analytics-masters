{
 "cells": [
  {
   "cell_type": "markdown",
   "id": "a03d1470",
   "metadata": {},
   "source": [
    "<font size=\"+5\">#02. Machine Learning & Regresion Lineal</font>"
   ]
  },
  {
   "cell_type": "markdown",
   "id": "a7b95ff9",
   "metadata": {},
   "source": [
    "<ul>\n",
    "    <li>Resolver dudas → Pregunta en <img src=\"https://discord.com/assets/f9bb9c4af2b9c32a2c5ee0014661546d.png\" style=\"height: 1em; vertical-align: middle;\"> <a href=\"https://discord.gg/cmB3KGsqMy\">Discord</a></li>\n",
    "    <li>Tutoriales → <img src=\"https://openmoji.org/php/download_asset.php?type=emoji&emoji_hexcode=E044&emoji_variant=color\" style=\"height: 1em; vertical-align: middle;\"> <a href=\"https://www.youtube.com/channel/UCovCte2I3loteQE_kRsfQcw\">YouTube</a></li>\n",
    "    <li>Reservar Clases → <span style=\"color: orange\">@</span> <a href=\"https://sotastica.com/reservar\">sotastica</a></li>\n",
    "</ul>"
   ]
  },
  {
   "cell_type": "markdown",
   "id": "cb61fe80",
   "metadata": {},
   "source": [
    "# Cargar Datos"
   ]
  },
  {
   "cell_type": "markdown",
   "id": "0f913d39",
   "metadata": {},
   "source": [
    "> Si ejecutamos los siguientes comandos:\n",
    "\n",
    "```python\n",
    "import seaborn as sns\n",
    "sns.get_dataset_names()\n",
    "```\n",
    "\n",
    "> Veremos una lista de posibles `datasets` que podemos descargar desde internet y convertirlos directamente a un `DataFrame` de `pandas`. Por ejemplo:\n",
    "\n",
    "```python\n",
    "sns.load_dataset(name='mpg')\n",
    "```"
   ]
  },
  {
   "cell_type": "code",
   "execution_count": 3,
   "id": "cd5d0c7e",
   "metadata": {},
   "outputs": [],
   "source": [
    "import seaborn as sns\n",
    "\n",
    "sns.get_dataset_names()\n",
    "df = sns.load_dataset(name='tips')"
   ]
  },
  {
   "cell_type": "markdown",
   "id": "f516e364",
   "metadata": {},
   "source": [
    "# Seleccionar 2 Variables para la Regresión"
   ]
  },
  {
   "cell_type": "markdown",
   "id": "bb20bd0c",
   "metadata": {},
   "source": [
    "> - Variable Objetivo `y`\n",
    "> - Variable Explicativa `X`"
   ]
  },
  {
   "cell_type": "code",
   "execution_count": 5,
   "id": "a975b60d",
   "metadata": {},
   "outputs": [],
   "source": [
    "total = df[['total_bill']]  \n",
    "explanatory = df[['tip']]"
   ]
  },
  {
   "cell_type": "markdown",
   "id": "715cb00f",
   "metadata": {},
   "source": [
    "# Scatterplot con las Variables"
   ]
  },
  {
   "cell_type": "markdown",
   "id": "85e96056",
   "metadata": {},
   "source": [
    "> Deberíamos observar en la gráfica que los puntos podrían relacionarse a través de una línea que los cruce.\n",
    ">\n",
    "> Si no es así, debemos seleccionar otras variables."
   ]
  },
  {
   "cell_type": "code",
   "execution_count": 6,
   "id": "b3463990",
   "metadata": {},
   "outputs": [
    {
     "data": {
      "text/plain": [
       "<AxesSubplot:xlabel='tip', ylabel='total_bill'>"
      ]
     },
     "execution_count": 6,
     "metadata": {},
     "output_type": "execute_result"
    },
    {
     "data": {
      "image/png": "[encoded data removed]",
      "text/plain": [
       "<Figure size 432x288 with 1 Axes>"
      ]
     },
     "metadata": {
      "needs_background": "light"
     },
     "output_type": "display_data"
    }
   ],
   "source": [
    "sns.scatterplot(x = 'tip',y = 'total_bill', data = df)"
   ]
  },
  {
   "cell_type": "markdown",
   "id": "8d67f79c",
   "metadata": {},
   "source": [
    "# Modelo de Regresión Lineal `LinearRegression()`"
   ]
  },
  {
   "cell_type": "markdown",
   "id": "f8acb1ff",
   "metadata": {},
   "source": [
    "## Entrenar Modelo"
   ]
  },
  {
   "cell_type": "markdown",
   "id": "c9236b09",
   "metadata": {},
   "source": [
    "> 1. **Necesidad:** Entrenar Modelo\n",
    "> 2. **Solución: Función** `fit()`"
   ]
  },
  {
   "cell_type": "code",
   "execution_count": 7,
   "id": "9530b3e8",
   "metadata": {},
   "outputs": [
    {
     "data": {
      "text/plain": [
       "{'fit_intercept': True,\n",
       " 'normalize': False,\n",
       " 'copy_X': True,\n",
       " 'n_jobs': None,\n",
       " 'positive': False,\n",
       " 'n_features_in_': 1,\n",
       " 'coef_': array([[4.34771421]]),\n",
       " '_residues': array([10464.72995515]),\n",
       " 'rank_': 1,\n",
       " 'singular_': array([21.56878478]),\n",
       " 'intercept_': array([6.75028377])}"
      ]
     },
     "execution_count": 7,
     "metadata": {},
     "output_type": "execute_result"
    }
   ],
   "source": [
    "from sklearn.linear_model import LinearRegression\n",
    "ajuste = LinearRegression()\n",
    "ajuste.fit(X = explanatory, y = total)\n",
    "\n",
    "ajuste.__dict__\n",
    "## Ecuacion y = ax + b --> y = 0.10x + 0.92"
   ]
  },
  {
   "cell_type": "markdown",
   "id": "e76a6c68-0b47-4850-b875-768b51ba65c5",
   "metadata": {},
   "source": [
    "$$\n",
    "y = 4.34 \\cdot x + 6.75 \\\\\n",
    "totalbill = 4.34 \\cdot tip + 6.75\n",
    "$$"
   ]
  },
  {
   "cell_type": "markdown",
   "id": "242e2dcc-3065-447b-8e2b-0ff29c2b766a",
   "metadata": {},
   "source": [
    "$$\n",
    "\\sum \\alpha \\beta \\cdot\n",
    "$$"
   ]
  },
  {
   "cell_type": "markdown",
   "id": "8dd40bab",
   "metadata": {},
   "source": [
    "## Realizar Predicciones"
   ]
  },
  {
   "cell_type": "markdown",
   "id": "158e66d0",
   "metadata": {},
   "source": [
    "> - `model.predict()`"
   ]
  },
  {
   "cell_type": "code",
   "execution_count": 17,
   "id": "69e69d2e",
   "metadata": {},
   "outputs": [],
   "source": [
    "y = ajuste.predict(X=explanatory)"
   ]
  },
  {
   "cell_type": "code",
   "execution_count": 18,
   "id": "fc380a55-1a88-4bce-8eaa-3c0b1860bb9a",
   "metadata": {},
   "outputs": [],
   "source": [
    "dfsel = df[['tip', 'total_bill']].copy()"
   ]
  },
  {
   "cell_type": "code",
   "execution_count": 19,
   "id": "de52a528-50bb-4e49-8615-f30668f241ba",
   "metadata": {},
   "outputs": [],
   "source": [
    "dfsel['pred'] = y"
   ]
  },
  {
   "cell_type": "code",
   "execution_count": 20,
   "id": "4a2c58c6-9836-4466-8826-8d6c1e74f0d9",
   "metadata": {},
   "outputs": [
    {
     "data": {
      "text/html": [
       "<div>\n",
       "<style scoped>\n",
       "    .dataframe tbody tr th:only-of-type {\n",
       "        vertical-align: middle;\n",
       "    }\n",
       "\n",
       "    .dataframe tbody tr th {\n",
       "        vertical-align: top;\n",
       "    }\n",
       "\n",
       "    .dataframe thead th {\n",
       "        text-align: right;\n",
       "    }\n",
       "</style>\n",
       "<table border=\"1\" class=\"dataframe\">\n",
       "  <thead>\n",
       "    <tr style=\"text-align: right;\">\n",
       "      <th></th>\n",
       "      <th>tip</th>\n",
       "      <th>total_bill</th>\n",
       "      <th>pred</th>\n",
       "    </tr>\n",
       "  </thead>\n",
       "  <tbody>\n",
       "    <tr>\n",
       "      <th>0</th>\n",
       "      <td>1.01</td>\n",
       "      <td>16.99</td>\n",
       "      <td>11.141475</td>\n",
       "    </tr>\n",
       "    <tr>\n",
       "      <th>1</th>\n",
       "      <td>1.66</td>\n",
       "      <td>10.34</td>\n",
       "      <td>13.967489</td>\n",
       "    </tr>\n",
       "    <tr>\n",
       "      <th>2</th>\n",
       "      <td>3.50</td>\n",
       "      <td>21.01</td>\n",
       "      <td>21.967283</td>\n",
       "    </tr>\n",
       "    <tr>\n",
       "      <th>3</th>\n",
       "      <td>3.31</td>\n",
       "      <td>23.68</td>\n",
       "      <td>21.141218</td>\n",
       "    </tr>\n",
       "    <tr>\n",
       "      <th>4</th>\n",
       "      <td>3.61</td>\n",
       "      <td>24.59</td>\n",
       "      <td>22.445532</td>\n",
       "    </tr>\n",
       "  </tbody>\n",
       "</table>\n",
       "</div>"
      ],
      "text/plain": [
       "    tip  total_bill       pred\n",
       "0  1.01       16.99  11.141475\n",
       "1  1.66       10.34  13.967489\n",
       "2  3.50       21.01  21.967283\n",
       "3  3.31       23.68  21.141218\n",
       "4  3.61       24.59  22.445532"
      ]
     },
     "execution_count": 20,
     "metadata": {},
     "output_type": "execute_result"
    }
   ],
   "source": [
    "dfsel.head()"
   ]
  },
  {
   "cell_type": "markdown",
   "id": "3f4ce67f",
   "metadata": {},
   "source": [
    "# Visualizar Modelo"
   ]
  },
  {
   "cell_type": "markdown",
   "id": "a0076c65",
   "metadata": {},
   "source": [
    "> 1. Los **datos reales**.\n",
    "> 2. **Modelo: las predicciones** con la ecuación matemática."
   ]
  },
  {
   "cell_type": "code",
   "execution_count": 23,
   "id": "e2578923-1176-4102-9083-9d6a38a26250",
   "metadata": {},
   "outputs": [
    {
     "data": {
      "text/plain": [
       "array([[37.18428322]])"
      ]
     },
     "execution_count": 23,
     "metadata": {},
     "output_type": "execute_result"
    }
   ],
   "source": [
    "ajuste.predict(X=[[7]])"
   ]
  },
  {
   "cell_type": "code",
   "execution_count": 22,
   "id": "9239717f",
   "metadata": {},
   "outputs": [
    {
     "data": {
      "text/plain": [
       "<AxesSubplot:xlabel='tip', ylabel='total_bill'>"
      ]
     },
     "execution_count": 22,
     "metadata": {},
     "output_type": "execute_result"
    },
    {
     "data": {
      "image/png": "[encoded data removed]",
      "text/plain": [
       "<Figure size 432x288 with 1 Axes>"
      ]
     },
     "metadata": {
      "needs_background": "light"
     },
     "output_type": "display_data"
    }
   ],
   "source": [
    "sns.scatterplot(x = 'tip', y = 'total_bill', data = df)\n",
    "sns.scatterplot(x = 'tip', y = 'pred', data = dfsel)"
   ]
  },
  {
   "cell_type": "markdown",
   "id": "2dd89d43",
   "metadata": {},
   "source": [
    "# Interpretar Modelo"
   ]
  },
  {
   "cell_type": "markdown",
   "id": "ae82f4af",
   "metadata": {},
   "source": [
    "> 1. Especifica la **Fórmula Matemática** del Modelo.\n",
    "> 2. **Interpreta los Coeficientes** de la Ecuación Matemática."
   ]
  },
  {
   "cell_type": "code",
   "execution_count": 24,
   "id": "8ddabdca-4542-4f10-a780-f35da421c863",
   "metadata": {},
   "outputs": [
    {
     "data": {
      "text/plain": [
       "{'fit_intercept': True,\n",
       " 'normalize': False,\n",
       " 'copy_X': True,\n",
       " 'n_jobs': None,\n",
       " 'positive': False,\n",
       " 'n_features_in_': 1,\n",
       " 'coef_': array([[4.34771421]]),\n",
       " '_residues': array([10464.72995515]),\n",
       " 'rank_': 1,\n",
       " 'singular_': array([21.56878478]),\n",
       " 'intercept_': array([6.75028377])}"
      ]
     },
     "execution_count": 24,
     "metadata": {},
     "output_type": "execute_result"
    }
   ],
   "source": [
    "ajuste.__dict__"
   ]
  },
  {
   "cell_type": "markdown",
   "id": "d91877e7-78d5-4623-bee0-85f7191121f1",
   "metadata": {},
   "source": [
    "$$\n",
    "totalbill = 4.34 \\cdot tip + 6.75\n",
    "$$"
   ]
  },
  {
   "cell_type": "markdown",
   "id": "7b79d394",
   "metadata": {},
   "source": [
    "# Realidad vs Predicciones"
   ]
  },
  {
   "cell_type": "markdown",
   "id": "7be2dff5",
   "metadata": {},
   "source": [
    "> ¿Cómo de bueno es nuestro modelo?\n",
    ">\n",
    "> 1. Si pasamos las predicciones como una nuevo columna del `DataFrame`, podremos observar que **las predicciones de nuestro modelo pueden no coincidir con la realidad**.\n",
    ">\n",
    ">    - `df['pred'] = predicciones`\n",
    ">\n",
    "> 2. ¿Cómo medimos el **error de nuestro modelo**? ¿Cómo de bueno es nuestro modelo para describir la realidad?\n",
    ">    - `df.sample(10)` para comprobar si las predicciones de nuestro modelo coinciden con la realidad..."
   ]
  },
  {
   "cell_type": "code",
   "execution_count": 26,
   "id": "4d281ed6-40ca-4b14-8e7c-332dd8f3d5f4",
   "metadata": {},
   "outputs": [],
   "source": [
    "dfsel = df[['total_bill','tip']].copy()"
   ]
  },
  {
   "cell_type": "code",
   "execution_count": 29,
   "id": "4b05c4e0",
   "metadata": {},
   "outputs": [
    {
     "data": {
      "text/html": [
       "<div>\n",
       "<style scoped>\n",
       "    .dataframe tbody tr th:only-of-type {\n",
       "        vertical-align: middle;\n",
       "    }\n",
       "\n",
       "    .dataframe tbody tr th {\n",
       "        vertical-align: top;\n",
       "    }\n",
       "\n",
       "    .dataframe thead th {\n",
       "        text-align: right;\n",
       "    }\n",
       "</style>\n",
       "<table border=\"1\" class=\"dataframe\">\n",
       "  <thead>\n",
       "    <tr style=\"text-align: right;\">\n",
       "      <th></th>\n",
       "      <th>total_bill</th>\n",
       "      <th>tip</th>\n",
       "      <th>pred</th>\n",
       "    </tr>\n",
       "  </thead>\n",
       "  <tbody>\n",
       "    <tr>\n",
       "      <th>31</th>\n",
       "      <td>18.35</td>\n",
       "      <td>2.50</td>\n",
       "      <td>17.619569</td>\n",
       "    </tr>\n",
       "    <tr>\n",
       "      <th>87</th>\n",
       "      <td>18.28</td>\n",
       "      <td>4.00</td>\n",
       "      <td>24.141141</td>\n",
       "    </tr>\n",
       "    <tr>\n",
       "      <th>93</th>\n",
       "      <td>16.32</td>\n",
       "      <td>4.30</td>\n",
       "      <td>25.445455</td>\n",
       "    </tr>\n",
       "    <tr>\n",
       "      <th>52</th>\n",
       "      <td>34.81</td>\n",
       "      <td>5.20</td>\n",
       "      <td>29.358398</td>\n",
       "    </tr>\n",
       "    <tr>\n",
       "      <th>86</th>\n",
       "      <td>13.03</td>\n",
       "      <td>2.00</td>\n",
       "      <td>15.445712</td>\n",
       "    </tr>\n",
       "    <tr>\n",
       "      <th>190</th>\n",
       "      <td>15.69</td>\n",
       "      <td>1.50</td>\n",
       "      <td>13.271855</td>\n",
       "    </tr>\n",
       "    <tr>\n",
       "      <th>141</th>\n",
       "      <td>34.30</td>\n",
       "      <td>6.70</td>\n",
       "      <td>35.879969</td>\n",
       "    </tr>\n",
       "    <tr>\n",
       "      <th>96</th>\n",
       "      <td>27.28</td>\n",
       "      <td>4.00</td>\n",
       "      <td>24.141141</td>\n",
       "    </tr>\n",
       "    <tr>\n",
       "      <th>178</th>\n",
       "      <td>9.60</td>\n",
       "      <td>4.00</td>\n",
       "      <td>24.141141</td>\n",
       "    </tr>\n",
       "    <tr>\n",
       "      <th>192</th>\n",
       "      <td>28.44</td>\n",
       "      <td>2.56</td>\n",
       "      <td>17.880432</td>\n",
       "    </tr>\n",
       "  </tbody>\n",
       "</table>\n",
       "</div>"
      ],
      "text/plain": [
       "     total_bill   tip       pred\n",
       "31        18.35  2.50  17.619569\n",
       "87        18.28  4.00  24.141141\n",
       "93        16.32  4.30  25.445455\n",
       "52        34.81  5.20  29.358398\n",
       "86        13.03  2.00  15.445712\n",
       "190       15.69  1.50  13.271855\n",
       "141       34.30  6.70  35.879969\n",
       "96        27.28  4.00  24.141141\n",
       "178        9.60  4.00  24.141141\n",
       "192       28.44  2.56  17.880432"
      ]
     },
     "execution_count": 29,
     "metadata": {},
     "output_type": "execute_result"
    }
   ],
   "source": [
    "dfsel = df[['total_bill','tip']].copy()\n",
    "dfsel[['pred']] = ajuste.predict(X = explanatory)\n",
    "\n",
    "dfsel\n",
    "dfsel.sample(10)"
   ]
  },
  {
   "cell_type": "code",
   "execution_count": 30,
   "id": "9f160dd8-5387-41c6-afab-cef0ec73a427",
   "metadata": {},
   "outputs": [
    {
     "ename": "NameError",
     "evalue": "name 'total_bill' is not defined",
     "output_type": "error",
     "traceback": [
      "\u001b[0;31m---------------------------------------------------------------------------\u001b[0m",
      "\u001b[0;31mNameError\u001b[0m                                 Traceback (most recent call last)",
      "\u001b[0;32m/var/folders/24/tg28vxls25l9mjvqrnh0plc80000gn/T/ipykernel_65064/1693591435.py\u001b[0m in \u001b[0;36m<module>\u001b[0;34m\u001b[0m\n\u001b[0;32m----> 1\u001b[0;31m \u001b[0mtotal_bill\u001b[0m\u001b[0;34m\u001b[0m\u001b[0;34m\u001b[0m\u001b[0m\n\u001b[0m",
      "\u001b[0;31mNameError\u001b[0m: name 'total_bill' is not defined"
     ]
    }
   ],
   "source": [
    "total_bill"
   ]
  },
  {
   "cell_type": "code",
   "execution_count": 36,
   "id": "30a80108-d1c8-4a28-93ad-985875653e48",
   "metadata": {},
   "outputs": [],
   "source": [
    "error = dfsel['total_bill'] - dfsel['pred']"
   ]
  },
  {
   "cell_type": "code",
   "execution_count": 39,
   "id": "b8abfeba-17f7-4846-b056-b7f9cdd88a52",
   "metadata": {},
   "outputs": [],
   "source": [
    "error2 = error**2"
   ]
  },
  {
   "cell_type": "code",
   "execution_count": 42,
   "id": "364f3b46-2677-4216-bef0-b8d42cb71c43",
   "metadata": {},
   "outputs": [],
   "source": [
    "residuos = error2.sum()"
   ]
  },
  {
   "cell_type": "code",
   "execution_count": 43,
   "id": "f103715a-7e5b-4649-900b-f90d7eb1f5b9",
   "metadata": {},
   "outputs": [],
   "source": [
    "rss = error2.sum()"
   ]
  },
  {
   "cell_type": "code",
   "execution_count": 44,
   "id": "6979c777-3ca2-4f5e-86e7-f951b1631e0e",
   "metadata": {},
   "outputs": [
    {
     "data": {
      "text/plain": [
       "10464.729955151066"
      ]
     },
     "execution_count": 44,
     "metadata": {},
     "output_type": "execute_result"
    }
   ],
   "source": [
    "rss"
   ]
  },
  {
   "cell_type": "code",
   "execution_count": 46,
   "id": "f745498e-3ba4-45e0-afad-cad3dc428797",
   "metadata": {},
   "outputs": [
    {
     "data": {
      "text/plain": [
       "{'fit_intercept': True,\n",
       " 'normalize': False,\n",
       " 'copy_X': True,\n",
       " 'n_jobs': None,\n",
       " 'positive': False,\n",
       " 'n_features_in_': 1,\n",
       " 'coef_': array([[4.34771421]]),\n",
       " '_residues': array([10464.72995515]),\n",
       " 'rank_': 1,\n",
       " 'singular_': array([21.56878478]),\n",
       " 'intercept_': array([6.75028377])}"
      ]
     },
     "execution_count": 46,
     "metadata": {},
     "output_type": "execute_result"
    }
   ],
   "source": [
    "ajuste.__dict__"
   ]
  },
  {
   "cell_type": "code",
   "execution_count": null,
   "id": "999e5669-4de8-4834-b0bf-3f19c394ce86",
   "metadata": {},
   "outputs": [],
   "source": []
  },
  {
   "cell_type": "code",
   "execution_count": 47,
   "id": "a5dbc975-e775-4dba-9445-d12c0ed9f57e",
   "metadata": {},
   "outputs": [
    {
     "data": {
      "text/plain": [
       "10464.729955151066"
      ]
     },
     "execution_count": 47,
     "metadata": {},
     "output_type": "execute_result"
    }
   ],
   "source": [
    "rss"
   ]
  },
  {
   "cell_type": "code",
   "execution_count": 53,
   "id": "cbfdcc7c-9edc-45fa-9eee-b79021e6cb4d",
   "metadata": {},
   "outputs": [],
   "source": [
    "tss = ((df.total_bill - df.total_bill.mean())**2).sum()"
   ]
  },
  {
   "cell_type": "code",
   "execution_count": 54,
   "id": "a54bcb04-ba32-4e85-8c16-0c6495ee2fe2",
   "metadata": {},
   "outputs": [
    {
     "data": {
      "text/plain": [
       "0.5433834136483237"
      ]
     },
     "execution_count": 54,
     "metadata": {},
     "output_type": "execute_result"
    }
   ],
   "source": [
    "rss/tss"
   ]
  },
  {
   "cell_type": "code",
   "execution_count": 55,
   "id": "984f3855-6495-48b9-b27e-23fcddf0254f",
   "metadata": {},
   "outputs": [
    {
     "data": {
      "text/plain": [
       "0.45661658635167635"
      ]
     },
     "execution_count": 55,
     "metadata": {},
     "output_type": "execute_result"
    }
   ],
   "source": [
    "1 - rss/tss"
   ]
  },
  {
   "cell_type": "code",
   "execution_count": null,
   "id": "e0f9e5ae-8bde-499b-92e6-bdb2a031d320",
   "metadata": {},
   "outputs": [],
   "source": []
  },
  {
   "cell_type": "code",
   "execution_count": 58,
   "id": "d449d25a-8f08-4ec1-9ec9-a32586c5bf73",
   "metadata": {},
   "outputs": [
    {
     "data": {
      "text/plain": [
       "LinearRegression()"
      ]
     },
     "execution_count": 58,
     "metadata": {},
     "output_type": "execute_result"
    }
   ],
   "source": [
    "ajuste"
   ]
  },
  {
   "cell_type": "code",
   "execution_count": 59,
   "id": "a17bded4-d173-4836-ad76-5ecdd0744ad2",
   "metadata": {},
   "outputs": [
    {
     "data": {
      "text/html": [
       "<div>\n",
       "<style scoped>\n",
       "    .dataframe tbody tr th:only-of-type {\n",
       "        vertical-align: middle;\n",
       "    }\n",
       "\n",
       "    .dataframe tbody tr th {\n",
       "        vertical-align: top;\n",
       "    }\n",
       "\n",
       "    .dataframe thead th {\n",
       "        text-align: right;\n",
       "    }\n",
       "</style>\n",
       "<table border=\"1\" class=\"dataframe\">\n",
       "  <thead>\n",
       "    <tr style=\"text-align: right;\">\n",
       "      <th></th>\n",
       "      <th>total_bill</th>\n",
       "      <th>tip</th>\n",
       "      <th>sex</th>\n",
       "      <th>smoker</th>\n",
       "      <th>day</th>\n",
       "      <th>time</th>\n",
       "      <th>size</th>\n",
       "    </tr>\n",
       "  </thead>\n",
       "  <tbody>\n",
       "    <tr>\n",
       "      <th>0</th>\n",
       "      <td>16.99</td>\n",
       "      <td>1.01</td>\n",
       "      <td>Female</td>\n",
       "      <td>No</td>\n",
       "      <td>Sun</td>\n",
       "      <td>Dinner</td>\n",
       "      <td>2</td>\n",
       "    </tr>\n",
       "    <tr>\n",
       "      <th>1</th>\n",
       "      <td>10.34</td>\n",
       "      <td>1.66</td>\n",
       "      <td>Male</td>\n",
       "      <td>No</td>\n",
       "      <td>Sun</td>\n",
       "      <td>Dinner</td>\n",
       "      <td>3</td>\n",
       "    </tr>\n",
       "    <tr>\n",
       "      <th>2</th>\n",
       "      <td>21.01</td>\n",
       "      <td>3.50</td>\n",
       "      <td>Male</td>\n",
       "      <td>No</td>\n",
       "      <td>Sun</td>\n",
       "      <td>Dinner</td>\n",
       "      <td>3</td>\n",
       "    </tr>\n",
       "    <tr>\n",
       "      <th>3</th>\n",
       "      <td>23.68</td>\n",
       "      <td>3.31</td>\n",
       "      <td>Male</td>\n",
       "      <td>No</td>\n",
       "      <td>Sun</td>\n",
       "      <td>Dinner</td>\n",
       "      <td>2</td>\n",
       "    </tr>\n",
       "    <tr>\n",
       "      <th>4</th>\n",
       "      <td>24.59</td>\n",
       "      <td>3.61</td>\n",
       "      <td>Female</td>\n",
       "      <td>No</td>\n",
       "      <td>Sun</td>\n",
       "      <td>Dinner</td>\n",
       "      <td>4</td>\n",
       "    </tr>\n",
       "    <tr>\n",
       "      <th>...</th>\n",
       "      <td>...</td>\n",
       "      <td>...</td>\n",
       "      <td>...</td>\n",
       "      <td>...</td>\n",
       "      <td>...</td>\n",
       "      <td>...</td>\n",
       "      <td>...</td>\n",
       "    </tr>\n",
       "    <tr>\n",
       "      <th>239</th>\n",
       "      <td>29.03</td>\n",
       "      <td>5.92</td>\n",
       "      <td>Male</td>\n",
       "      <td>No</td>\n",
       "      <td>Sat</td>\n",
       "      <td>Dinner</td>\n",
       "      <td>3</td>\n",
       "    </tr>\n",
       "    <tr>\n",
       "      <th>240</th>\n",
       "      <td>27.18</td>\n",
       "      <td>2.00</td>\n",
       "      <td>Female</td>\n",
       "      <td>Yes</td>\n",
       "      <td>Sat</td>\n",
       "      <td>Dinner</td>\n",
       "      <td>2</td>\n",
       "    </tr>\n",
       "    <tr>\n",
       "      <th>241</th>\n",
       "      <td>22.67</td>\n",
       "      <td>2.00</td>\n",
       "      <td>Male</td>\n",
       "      <td>Yes</td>\n",
       "      <td>Sat</td>\n",
       "      <td>Dinner</td>\n",
       "      <td>2</td>\n",
       "    </tr>\n",
       "    <tr>\n",
       "      <th>242</th>\n",
       "      <td>17.82</td>\n",
       "      <td>1.75</td>\n",
       "      <td>Male</td>\n",
       "      <td>No</td>\n",
       "      <td>Sat</td>\n",
       "      <td>Dinner</td>\n",
       "      <td>2</td>\n",
       "    </tr>\n",
       "    <tr>\n",
       "      <th>243</th>\n",
       "      <td>18.78</td>\n",
       "      <td>3.00</td>\n",
       "      <td>Female</td>\n",
       "      <td>No</td>\n",
       "      <td>Thur</td>\n",
       "      <td>Dinner</td>\n",
       "      <td>2</td>\n",
       "    </tr>\n",
       "  </tbody>\n",
       "</table>\n",
       "<p>244 rows × 7 columns</p>\n",
       "</div>"
      ],
      "text/plain": [
       "     total_bill   tip     sex smoker   day    time  size\n",
       "0         16.99  1.01  Female     No   Sun  Dinner     2\n",
       "1         10.34  1.66    Male     No   Sun  Dinner     3\n",
       "2         21.01  3.50    Male     No   Sun  Dinner     3\n",
       "3         23.68  3.31    Male     No   Sun  Dinner     2\n",
       "4         24.59  3.61  Female     No   Sun  Dinner     4\n",
       "..          ...   ...     ...    ...   ...     ...   ...\n",
       "239       29.03  5.92    Male     No   Sat  Dinner     3\n",
       "240       27.18  2.00  Female    Yes   Sat  Dinner     2\n",
       "241       22.67  2.00    Male    Yes   Sat  Dinner     2\n",
       "242       17.82  1.75    Male     No   Sat  Dinner     2\n",
       "243       18.78  3.00  Female     No  Thur  Dinner     2\n",
       "\n",
       "[244 rows x 7 columns]"
      ]
     },
     "execution_count": 59,
     "metadata": {},
     "output_type": "execute_result"
    }
   ],
   "source": [
    "df"
   ]
  },
  {
   "cell_type": "code",
   "execution_count": 61,
   "id": "36ebb42d-5ccb-4dcb-80e6-4a9463bc0e07",
   "metadata": {},
   "outputs": [
    {
     "data": {
      "text/plain": [
       "0.45661658635167635"
      ]
     },
     "execution_count": 61,
     "metadata": {},
     "output_type": "execute_result"
    }
   ],
   "source": [
    "ajuste.score(X=df[['tip']],y=df[['total_bill']])"
   ]
  },
  {
   "cell_type": "markdown",
   "id": "536d96fd-3150-49e2-a5c8-d956017436d8",
   "metadata": {},
   "source": [
    "Nuestro modelo tiene una capacidad del 45.66% de explicar la varaibilidad del `total_bill`"
   ]
  },
  {
   "cell_type": "code",
   "execution_count": null,
   "id": "3b5d5716-7005-4a0f-a8ae-9dc9031691d5",
   "metadata": {},
   "outputs": [],
   "source": []
  },
  {
   "cell_type": "code",
   "execution_count": 33,
   "id": "8c1e4bc6-ed8c-47cc-8bf7-df243eeffba9",
   "metadata": {},
   "outputs": [
    {
     "data": {
      "text/plain": [
       "0       5.848525\n",
       "1      -3.627489\n",
       "2      -0.957283\n",
       "3       2.538782\n",
       "4       2.144468\n",
       "         ...    \n",
       "239    -3.458752\n",
       "240    11.734288\n",
       "241     7.224288\n",
       "242     3.461216\n",
       "243    -1.013426\n",
       "Length: 244, dtype: float64"
      ]
     },
     "execution_count": 33,
     "metadata": {},
     "output_type": "execute_result"
    }
   ],
   "source": [
    "dfsel['total_bill'] - dfsel['pred']"
   ]
  },
  {
   "cell_type": "code",
   "execution_count": 31,
   "id": "308dbc77-80e9-4957-b30e-0e3fe409df9f",
   "metadata": {},
   "outputs": [
    {
     "data": {
      "text/html": [
       "<div>\n",
       "<style scoped>\n",
       "    .dataframe tbody tr th:only-of-type {\n",
       "        vertical-align: middle;\n",
       "    }\n",
       "\n",
       "    .dataframe tbody tr th {\n",
       "        vertical-align: top;\n",
       "    }\n",
       "\n",
       "    .dataframe thead th {\n",
       "        text-align: right;\n",
       "    }\n",
       "</style>\n",
       "<table border=\"1\" class=\"dataframe\">\n",
       "  <thead>\n",
       "    <tr style=\"text-align: right;\">\n",
       "      <th></th>\n",
       "      <th>pred</th>\n",
       "      <th>total_bill</th>\n",
       "    </tr>\n",
       "  </thead>\n",
       "  <tbody>\n",
       "    <tr>\n",
       "      <th>0</th>\n",
       "      <td>NaN</td>\n",
       "      <td>NaN</td>\n",
       "    </tr>\n",
       "    <tr>\n",
       "      <th>1</th>\n",
       "      <td>NaN</td>\n",
       "      <td>NaN</td>\n",
       "    </tr>\n",
       "    <tr>\n",
       "      <th>2</th>\n",
       "      <td>NaN</td>\n",
       "      <td>NaN</td>\n",
       "    </tr>\n",
       "    <tr>\n",
       "      <th>3</th>\n",
       "      <td>NaN</td>\n",
       "      <td>NaN</td>\n",
       "    </tr>\n",
       "    <tr>\n",
       "      <th>4</th>\n",
       "      <td>NaN</td>\n",
       "      <td>NaN</td>\n",
       "    </tr>\n",
       "    <tr>\n",
       "      <th>...</th>\n",
       "      <td>...</td>\n",
       "      <td>...</td>\n",
       "    </tr>\n",
       "    <tr>\n",
       "      <th>239</th>\n",
       "      <td>NaN</td>\n",
       "      <td>NaN</td>\n",
       "    </tr>\n",
       "    <tr>\n",
       "      <th>240</th>\n",
       "      <td>NaN</td>\n",
       "      <td>NaN</td>\n",
       "    </tr>\n",
       "    <tr>\n",
       "      <th>241</th>\n",
       "      <td>NaN</td>\n",
       "      <td>NaN</td>\n",
       "    </tr>\n",
       "    <tr>\n",
       "      <th>242</th>\n",
       "      <td>NaN</td>\n",
       "      <td>NaN</td>\n",
       "    </tr>\n",
       "    <tr>\n",
       "      <th>243</th>\n",
       "      <td>NaN</td>\n",
       "      <td>NaN</td>\n",
       "    </tr>\n",
       "  </tbody>\n",
       "</table>\n",
       "<p>244 rows × 2 columns</p>\n",
       "</div>"
      ],
      "text/plain": [
       "     pred  total_bill\n",
       "0     NaN         NaN\n",
       "1     NaN         NaN\n",
       "2     NaN         NaN\n",
       "3     NaN         NaN\n",
       "4     NaN         NaN\n",
       "..    ...         ...\n",
       "239   NaN         NaN\n",
       "240   NaN         NaN\n",
       "241   NaN         NaN\n",
       "242   NaN         NaN\n",
       "243   NaN         NaN\n",
       "\n",
       "[244 rows x 2 columns]"
      ]
     },
     "execution_count": 31,
     "metadata": {},
     "output_type": "execute_result"
    }
   ],
   "source": [
    "dfsel[['total_bill']]-dfsel[['pred']]"
   ]
  },
  {
   "cell_type": "markdown",
   "id": "dfcf7377",
   "metadata": {},
   "source": [
    "# Objetivos Alcanzados"
   ]
  },
  {
   "cell_type": "markdown",
   "id": "ad4478c3",
   "metadata": {},
   "source": [
    "_Haz doble click sobre esta celda y pon una `X` dentro de las casillas [X] si crees que has superado los objetivos:_\n",
    "\n",
    "- [ ] Entender **cómo la máquina optimiza un modelo**, que no es más que encontrar **los números** una ecuación matemática.\n",
    "- [ ] La `función` como elemento indivisible de la programación. Como un **átomo**: el núcleo de todo.\n",
    "- [ ] Entender **qué sucede dentro del ordenador** cuando ejecutamos una función. Descargamos código de internet, o es un proceso local del ordenador?\n",
    "- [ ] Usar **la programación como una herramienta**, como un medio hacia un fin. No como el fin en sí mismo.\n",
    "- [ ] Entender que la estadística no es una ciencia perfecta. Sino que trata de **aproximarse a la realidad** de la mejor forma posible.\n",
    "- [ ] **Medir el error** del modelo no es más que comparar la predicción contra la realidad.\n",
    "- [ ] De la misma manera que en el código existen diversas formas de obtener el mismo resultado, en la programación existen **diversos algoritmos/modelos/ecuaciones para predecir la misma variable**."
   ]
  }
 ],
 "metadata": {
  "authors": [
   {
    "name": "Jesús López @sotastica"
   }
  ],
  "kernelspec": {
   "display_name": "Python 3 (ipykernel)",
   "language": "python",
   "name": "python3"
  },
  "language_info": {
   "codemirror_mode": {
    "name": "ipython",
    "version": 3
   },
   "file_extension": ".py",
   "mimetype": "text/x-python",
   "name": "python",
   "nbconvert_exporter": "python",
   "pygments_lexer": "ipython3",
   "version": "3.8.5"
  }
 },
 "nbformat": 4,
 "nbformat_minor": 5
}
