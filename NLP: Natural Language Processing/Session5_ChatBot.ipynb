{
 "cells": [
  {
   "cell_type": "markdown",
   "id": "e48af459",
   "metadata": {},
   "source": [
    "## Other NLP Techniques - NLTK Bot"
   ]
  },
  {
   "cell_type": "markdown",
   "id": "c9d4cdaf",
   "metadata": {},
   "source": [
    "#### NLTK.Chat Library"
   ]
  },
  {
   "cell_type": "code",
   "execution_count": 2,
   "id": "fb3e1fad",
   "metadata": {},
   "outputs": [],
   "source": [
    "# Import the libraries \n",
    "from nltk.chat.util import Chat"
   ]
  },
  {
   "cell_type": "code",
   "execution_count": 4,
   "id": "8a4b725e",
   "metadata": {},
   "outputs": [],
   "source": [
    "# We make the pairs (question-answer)\n",
    "\n",
    "pairs = (\n",
    "    (r'I need (.*)',\n",
    "     ('Why do you need %1?',\n",
    "     'Are you sure you need %1?')),\n",
    "    \n",
    "    (r'exit',\n",
    "    ('Thank you for talk to me',\n",
    "     'Good bye! :)',\n",
    "     'Have a great day!')),\n",
    "    \n",
    "    (r\"I am (.*) and you?\",\n",
    "    (\"I'm %1 too, thank you for asking me. But let's talk about you\",\n",
    "     \"Why are you %1?\")),\n",
    "    \n",
    "    (r'(.*)',\n",
    "    (\"I'm a repetitor, so you've said: %1\",\n",
    "     \"%1\"))\n",
    "    \n",
    ")\n",
    "    \n",
    "\n",
    "# Let's make the reflections\n",
    "reflections = {\n",
    "  \"i am\"       : \"you are\",\n",
    "  \"i was\"      : \"you were\",\n",
    "  \"i\"          : \"you\",\n",
    "  \"i'm\"        : \"you are\",\n",
    "  \"i'd\"        : \"you would\",\n",
    "  \"i've\"       : \"you have\",\n",
    "  \"i'll\"       : \"you will\",\n",
    "  \"my\"         : \"your\",\n",
    "  \"you are\"    : \"I am\",\n",
    "  \"you're\"     : \"I'm\",\n",
    "  \"you were\"   : \"I was\",\n",
    "  \"you've\"     : \"I have\",\n",
    "  \"you'll\"     : \"I will\",\n",
    "  \"your\"       : \"my\",\n",
    "  \"yours\"      : \"mine\",\n",
    "  \"you\"        : \"me\",\n",
    "  \"me\"         : \"you\"\n",
    "}\n",
    "\n",
    "\n",
    "# Let's create the chatbot\n",
    "chatbot = Chat(pairs, reflections)\n",
    "\n",
    "def test_chat():\n",
    "    print(\"Testing bot\\n----\\n\")\n",
    "    print(\"Write 'exit' to finish the conversation\")\n",
    "    print(\"=\"*73)\n",
    "    print(\"Hello, how are you?\")\n",
    "    \n",
    "    chatbot.converse(quit='exit')\n",
    "\n"
   ]
  },
  {
   "cell_type": "code",
   "execution_count": 5,
   "id": "a1b8c774",
   "metadata": {},
   "outputs": [
    {
     "name": "stdout",
     "output_type": "stream",
     "text": [
      "Testing bot\n",
      "----\n",
      "\n",
      "Write 'exit' to finish the conversation\n",
      "=========================================================================\n",
      "Hello, how are you?\n",
      ">I am fine, and you?\n",
      "I'm fine, too, thank you for asking me. But let's talk about you\n",
      ">OK\n",
      "ok\n",
      ">I am the one that said Ok\n",
      "you are the one that said ok\n",
      ">omg\n",
      "omg\n",
      ">why are you repeating everything\n",
      "I'm a repetitor, so you've said: why are me repeating everything\n",
      ">hahaha\n",
      "hahaha\n",
      ">okay, I finished with this\n",
      "okay, you finished with this\n",
      ">!!!\n"
     ]
    },
    {
     "ename": "IndexError",
     "evalue": "string index out of range",
     "output_type": "error",
     "traceback": [
      "\u001b[1;31m---------------------------------------------------------------------------\u001b[0m",
      "\u001b[1;31mIndexError\u001b[0m                                Traceback (most recent call last)",
      "\u001b[1;32m~\\AppData\\Local\\Temp/ipykernel_3548/17014062.py\u001b[0m in \u001b[0;36m<module>\u001b[1;34m\u001b[0m\n\u001b[1;32m----> 1\u001b[1;33m \u001b[0mtest_chat\u001b[0m\u001b[1;33m(\u001b[0m\u001b[1;33m)\u001b[0m\u001b[1;33m\u001b[0m\u001b[1;33m\u001b[0m\u001b[0m\n\u001b[0m",
      "\u001b[1;32m~\\AppData\\Local\\Temp/ipykernel_3548/3288128717.py\u001b[0m in \u001b[0;36mtest_chat\u001b[1;34m()\u001b[0m\n\u001b[0;32m     53\u001b[0m     \u001b[0mprint\u001b[0m\u001b[1;33m(\u001b[0m\u001b[1;34m\"Hello, how are you?\"\u001b[0m\u001b[1;33m)\u001b[0m\u001b[1;33m\u001b[0m\u001b[1;33m\u001b[0m\u001b[0m\n\u001b[0;32m     54\u001b[0m \u001b[1;33m\u001b[0m\u001b[0m\n\u001b[1;32m---> 55\u001b[1;33m     \u001b[0mchatbot\u001b[0m\u001b[1;33m.\u001b[0m\u001b[0mconverse\u001b[0m\u001b[1;33m(\u001b[0m\u001b[0mquit\u001b[0m\u001b[1;33m=\u001b[0m\u001b[1;34m'exit'\u001b[0m\u001b[1;33m)\u001b[0m\u001b[1;33m\u001b[0m\u001b[1;33m\u001b[0m\u001b[0m\n\u001b[0m\u001b[0;32m     56\u001b[0m \u001b[1;33m\u001b[0m\u001b[0m\n",
      "\u001b[1;32m~\\anaconda3\\lib\\site-packages\\nltk\\chat\\util.py\u001b[0m in \u001b[0;36mconverse\u001b[1;34m(self, quit)\u001b[0m\n\u001b[0;32m    121\u001b[0m                 \u001b[0mprint\u001b[0m\u001b[1;33m(\u001b[0m\u001b[0muser_input\u001b[0m\u001b[1;33m)\u001b[0m\u001b[1;33m\u001b[0m\u001b[1;33m\u001b[0m\u001b[0m\n\u001b[0;32m    122\u001b[0m             \u001b[1;32mif\u001b[0m \u001b[0muser_input\u001b[0m\u001b[1;33m:\u001b[0m\u001b[1;33m\u001b[0m\u001b[1;33m\u001b[0m\u001b[0m\n\u001b[1;32m--> 123\u001b[1;33m                 \u001b[1;32mwhile\u001b[0m \u001b[0muser_input\u001b[0m\u001b[1;33m[\u001b[0m\u001b[1;33m-\u001b[0m\u001b[1;36m1\u001b[0m\u001b[1;33m]\u001b[0m \u001b[1;32min\u001b[0m \u001b[1;34m\"!.\"\u001b[0m\u001b[1;33m:\u001b[0m\u001b[1;33m\u001b[0m\u001b[1;33m\u001b[0m\u001b[0m\n\u001b[0m\u001b[0;32m    124\u001b[0m                     \u001b[0muser_input\u001b[0m \u001b[1;33m=\u001b[0m \u001b[0muser_input\u001b[0m\u001b[1;33m[\u001b[0m\u001b[1;33m:\u001b[0m\u001b[1;33m-\u001b[0m\u001b[1;36m1\u001b[0m\u001b[1;33m]\u001b[0m\u001b[1;33m\u001b[0m\u001b[1;33m\u001b[0m\u001b[0m\n\u001b[0;32m    125\u001b[0m                 \u001b[0mprint\u001b[0m\u001b[1;33m(\u001b[0m\u001b[0mself\u001b[0m\u001b[1;33m.\u001b[0m\u001b[0mrespond\u001b[0m\u001b[1;33m(\u001b[0m\u001b[0muser_input\u001b[0m\u001b[1;33m)\u001b[0m\u001b[1;33m)\u001b[0m\u001b[1;33m\u001b[0m\u001b[1;33m\u001b[0m\u001b[0m\n",
      "\u001b[1;31mIndexError\u001b[0m: string index out of range"
     ]
    }
   ],
   "source": [
    "test_chat()"
   ]
  }
 ],
 "metadata": {
  "kernelspec": {
   "display_name": "Python 3 (ipykernel)",
   "language": "python",
   "name": "python3"
  },
  "language_info": {
   "codemirror_mode": {
    "name": "ipython",
    "version": 3
   },
   "file_extension": ".py",
   "mimetype": "text/x-python",
   "name": "python",
   "nbconvert_exporter": "python",
   "pygments_lexer": "ipython3",
   "version": "3.8.5"
  }
 },
 "nbformat": 4,
 "nbformat_minor": 5
}
