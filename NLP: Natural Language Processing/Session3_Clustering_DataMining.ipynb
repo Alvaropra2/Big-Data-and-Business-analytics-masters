{
 "cells": [
  {
   "cell_type": "markdown",
   "id": "e2adda22",
   "metadata": {},
   "source": [
    "## Text mining K-Means"
   ]
  },
  {
   "cell_type": "markdown",
   "id": "bd36f17a",
   "metadata": {},
   "source": [
    "#### We load the corpus of text"
   ]
  },
  {
   "cell_type": "code",
   "execution_count": 12,
   "id": "33f0a82a",
   "metadata": {},
   "outputs": [
    {
     "name": "stdout",
     "output_type": "stream",
     "text": [
      "\n",
      "\n",
      "1.Load the corpus of texts\n",
      "['Me gustan las vacas', 'Me gustan los caballos', 'odio los perros', 'odio los caballos', 'me gustan las ranas', 'me gusta el helado', 'no quiero comer']\n"
     ]
    }
   ],
   "source": [
    "# 1. Load the corpus of text\n",
    "print('\\n\\n1.Load the corpus of texts')\n",
    "trainCorpus = [\"Me gustan las vacas\",\n",
    "              \"Me gustan los caballos\",\n",
    "              \"odio los perros\",\n",
    "              \"odio los caballos\",\n",
    "              \"me gustan las ranas\",\n",
    "              \"me gusta el helado\",\n",
    "              \"no quiero comer\"]\n",
    "print(trainCorpus)"
   ]
  },
  {
   "cell_type": "code",
   "execution_count": 11,
   "id": "adf73a99",
   "metadata": {},
   "outputs": [
    {
     "name": "stdout",
     "output_type": "stream",
     "text": [
      "2. Texts vectorization\n",
      "\n",
      "Features:  ['caballos', 'comer', 'el', 'gusta', 'gustan', 'helado', 'las', 'los', 'me', 'no', 'odio', 'perros', 'quiero', 'ranas', 'vacas']\n",
      "\n",
      "tf Matrix:\n",
      " [[0 0 0 0 1 0 1 0 1 0 0 0 0 0 1]\n",
      " [1 0 0 0 1 0 0 1 1 0 0 0 0 0 0]\n",
      " [0 0 0 0 0 0 0 1 0 0 1 1 0 0 0]\n",
      " [1 0 0 0 0 0 0 1 0 0 1 0 0 0 0]\n",
      " [0 0 0 0 1 0 1 0 1 0 0 0 0 1 0]\n",
      " [0 0 1 1 0 1 0 0 1 0 0 0 0 0 0]\n",
      " [0 1 0 0 0 0 0 0 0 1 0 0 1 0 0]]\n",
      "number of sentences 7, number of features 15\n"
     ]
    }
   ],
   "source": [
    "# 2. Texts vectorization\n",
    "print('2. Texts vectorization\\n')\n",
    "\n",
    "# Import the vectorizer\n",
    "from sklearn.feature_extraction.text import CountVectorizer\n",
    "\n",
    "# Create the vectorizer \n",
    "vectorizer  = CountVectorizer()\n",
    "\n",
    "# Use the vectorizer to transform the documents on a matrix of tf's (term frequency) \n",
    "\n",
    "vectorizer.fit(trainCorpus)\n",
    "\n",
    "#Print the features vectorizer \n",
    "\n",
    "print('Features: ', vectorizer.get_feature_names())\n",
    "\n",
    "#Extract the terms frequency \n",
    "\n",
    "tfMatrix = vectorizer.transform(trainCorpus)\n",
    "\n",
    "# Print the matrix. \n",
    "# This matrix converted in array indicates: \n",
    "#    - Each column is a one feature, \n",
    "#    - Each row is a one sentence of corpus.\n",
    "#    - The (i,j) value indicates the frequency of j feature in a i sentence\n",
    "print('\\ntf Matrix:\\n', tfMatrix.toarray())\n",
    "\n",
    "# Print the shape of our matrix:\n",
    "print(\"number of sentences %d, number of features %d\" % tfMatrix.shape)\n"
   ]
  },
  {
   "cell_type": "markdown",
   "id": "d2682f98",
   "metadata": {},
   "source": [
    "#### Text clustering"
   ]
  },
  {
   "cell_type": "code",
   "execution_count": 20,
   "id": "661bbcce",
   "metadata": {},
   "outputs": [
    {
     "name": "stdout",
     "output_type": "stream",
     "text": [
      "3. Texts clustering\n",
      "Clusters:  [0 0 1 1 0 0 1]\n",
      "Cluster  0\n",
      "\t Me gustan las vacas\n",
      "\t Me gustan los caballos\n",
      "\t me gustan las ranas\n",
      "\t me gusta el helado\n",
      "Cluster  1\n",
      "\t odio los perros\n",
      "\t odio los caballos\n",
      "\t no quiero comer\n"
     ]
    }
   ],
   "source": [
    "# 3. Texts clustering\n",
    "print('3. Texts clustering')\n",
    "\n",
    "# Import the KMeans algorithm\n",
    "from sklearn.cluster import KMeans\n",
    "\n",
    "# Assign the kmeans's k-value to k=2 because we want to get 2 clusters: positive and negative sentences \n",
    "k = 2\n",
    "\n",
    "# Create and fit the KMeans\n",
    "km = KMeans(n_clusters = k, max_iter = 10, random_state = 1)\n",
    "km.fit(tfMatrix)\n",
    "\n",
    "# Print the results:\n",
    "print('Clusters: ', km.labels_)\n",
    "\n",
    "# Print the clusters with its sentences:\n",
    "# For each cluster\n",
    "\n",
    "for i in range(k) : \n",
    "    print('Cluster ', i)\n",
    "    # for each sentence \n",
    "    for j in range(km.labels_.size) : \n",
    "        if km.labels_[j] == i :\n",
    "         print('\\t', trainCorpus[j])\n"
   ]
  },
  {
   "cell_type": "markdown",
   "id": "a01a1079",
   "metadata": {},
   "source": [
    "#### Clustering quality measurement"
   ]
  },
  {
   "cell_type": "code",
   "execution_count": 23,
   "id": "7db6b97f",
   "metadata": {},
   "outputs": [
    {
     "name": "stdout",
     "output_type": "stream",
     "text": [
      "4. Clustering quality measurement\n",
      "Clusters:  [0 0 1 1 0 0 1]\n",
      "Sentences:  [0, 0, 1, 1, 0, 0, 1]\n",
      "Homogeneity: 1.000\n",
      "Completeness: 1.000\n",
      "V-measure: 1.000\n"
     ]
    }
   ],
   "source": [
    "# 4. Clustering quality measurement \n",
    "print('4. Clustering quality measurement')\n",
    "\n",
    "# Import the metrics\n",
    "\n",
    "from sklearn import metrics\n",
    "\n",
    "\n",
    "# To measure the clustering quality, we need the real categories: 1 - negative sentences, 0 - positive sentences\n",
    "sentencesTruth = [0,0,1,1,0,0,1]\n",
    "\n",
    "print(\"Clusters: \", km.labels_)\n",
    "print(\"Sentences: \", sentencesTruth)\n",
    "\n",
    "# Calculate the clustering goodness with: homogeneity_score, completeness_score and v_measure_score\n",
    "# A cluster is homogeneous if its all elements contains members of the same class\n",
    "print(\"Homogeneity: %0.3f\" % metrics.homogeneity_score(sentencesTruth, km.labels_))\n",
    "\n",
    "# A class is compelete if its all elements belong to the same cluster\n",
    "print(\"Completeness: %0.3f\" % metrics.completeness_score(sentencesTruth, km.labels_))\n",
    "\n",
    "# V-measure is the weighted average of the last two metrics\n",
    "print(\"V-measure: %0.3f\" % metrics.v_measure_score(sentencesTruth, km.labels_))"
   ]
  },
  {
   "cell_type": "markdown",
   "id": "10d0b068",
   "metadata": {},
   "source": [
    "#### 5. Use the trained KMeans to classify other texts "
   ]
  },
  {
   "cell_type": "code",
   "execution_count": 26,
   "id": "55113c16",
   "metadata": {},
   "outputs": [
    {
     "name": "stdout",
     "output_type": "stream",
     "text": [
      "5. Use the trained KMeans to classify others texts\n",
      "\n",
      "Testing tests:\n",
      "\t odio vivir en Madrid\n",
      "\t me gusta Londres\n",
      "\n",
      "tfMatrixTest:\n",
      " [[0 0 0 0 0 0 0 0 0 0 1 0 0 0 0]\n",
      " [0 0 0 1 0 0 0 0 1 0 0 0 0 0 0]]\n",
      "\n",
      "Clusters prediction:  [1 0]\n"
     ]
    }
   ],
   "source": [
    "# 5. Use the trained KMeans to classify others texts\n",
    "print('5. Use the trained KMeans to classify others texts')\n",
    "\n",
    "testCorpus = ['odio vivir en Madrid', 'me gusta Londres']\n",
    "\n",
    "print('\\nTesting tests:')\n",
    "for text in testCorpus :\n",
    "    print('\\t', text)\n",
    "    \n",
    "# Text vectorization\n",
    "tfMatrixTest = vectorizer.transform(testCorpus)\n",
    "print('\\ntfMatrixTest:\\n', tfMatrixTest.toarray())\n",
    "\n",
    "# Classify the texts\n",
    "pred = km.predict(tfMatrixTest)\n",
    "print('\\nClusters prediction: ', pred)"
   ]
  }
 ],
 "metadata": {
  "kernelspec": {
   "display_name": "Python 3 (ipykernel)",
   "language": "python",
   "name": "python3"
  },
  "language_info": {
   "codemirror_mode": {
    "name": "ipython",
    "version": 3
   },
   "file_extension": ".py",
   "mimetype": "text/x-python",
   "name": "python",
   "nbconvert_exporter": "python",
   "pygments_lexer": "ipython3",
   "version": "3.8.5"
  }
 },
 "nbformat": 4,
 "nbformat_minor": 5
}
